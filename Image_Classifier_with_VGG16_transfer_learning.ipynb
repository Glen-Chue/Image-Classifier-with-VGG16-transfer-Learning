{
  "nbformat": 4,
  "nbformat_minor": 0,
  "metadata": {
    "colab": {
      "name": "Image Classifier with VGG16 transfer learning.ipynb",
      "provenance": [],
      "collapsed_sections": []
    },
    "kernelspec": {
      "name": "python3",
      "display_name": "Python 3"
    },
    "language_info": {
      "name": "python"
    },
    "accelerator": "GPU",
    "widgets": {
      "application/vnd.jupyter.widget-state+json": {
        "1ac1cc9746234566a13262c798a89e7e": {
          "model_module": "@jupyter-widgets/controls",
          "model_name": "HBoxModel",
          "model_module_version": "1.5.0",
          "state": {
            "_dom_classes": [],
            "_model_module": "@jupyter-widgets/controls",
            "_model_module_version": "1.5.0",
            "_model_name": "HBoxModel",
            "_view_count": null,
            "_view_module": "@jupyter-widgets/controls",
            "_view_module_version": "1.5.0",
            "_view_name": "HBoxView",
            "box_style": "",
            "children": [
              "IPY_MODEL_84f6ad4402e84f60a96bf3f896126c8e",
              "IPY_MODEL_1370ba9d695e4b8a9bae7c9603d4311a",
              "IPY_MODEL_3c6809d16434424a9b1be7097d7623c6"
            ],
            "layout": "IPY_MODEL_defbb80985c44e9e8ecc66370fc464ab"
          }
        },
        "84f6ad4402e84f60a96bf3f896126c8e": {
          "model_module": "@jupyter-widgets/controls",
          "model_name": "HTMLModel",
          "model_module_version": "1.5.0",
          "state": {
            "_dom_classes": [],
            "_model_module": "@jupyter-widgets/controls",
            "_model_module_version": "1.5.0",
            "_model_name": "HTMLModel",
            "_view_count": null,
            "_view_module": "@jupyter-widgets/controls",
            "_view_module_version": "1.5.0",
            "_view_name": "HTMLView",
            "description": "",
            "description_tooltip": null,
            "layout": "IPY_MODEL_eed0710a424d4b6db862f291ea1f74fe",
            "placeholder": "​",
            "style": "IPY_MODEL_f7c8ae943ead46a2985f35c74e118b90",
            "value": "100%"
          }
        },
        "1370ba9d695e4b8a9bae7c9603d4311a": {
          "model_module": "@jupyter-widgets/controls",
          "model_name": "FloatProgressModel",
          "model_module_version": "1.5.0",
          "state": {
            "_dom_classes": [],
            "_model_module": "@jupyter-widgets/controls",
            "_model_module_version": "1.5.0",
            "_model_name": "FloatProgressModel",
            "_view_count": null,
            "_view_module": "@jupyter-widgets/controls",
            "_view_module_version": "1.5.0",
            "_view_name": "ProgressView",
            "bar_style": "success",
            "description": "",
            "description_tooltip": null,
            "layout": "IPY_MODEL_78bd0edeef68459bb20ca3e783720980",
            "max": 553433881,
            "min": 0,
            "orientation": "horizontal",
            "style": "IPY_MODEL_a59b37e257074e069effc010677ecf4d",
            "value": 553433881
          }
        },
        "3c6809d16434424a9b1be7097d7623c6": {
          "model_module": "@jupyter-widgets/controls",
          "model_name": "HTMLModel",
          "model_module_version": "1.5.0",
          "state": {
            "_dom_classes": [],
            "_model_module": "@jupyter-widgets/controls",
            "_model_module_version": "1.5.0",
            "_model_name": "HTMLModel",
            "_view_count": null,
            "_view_module": "@jupyter-widgets/controls",
            "_view_module_version": "1.5.0",
            "_view_name": "HTMLView",
            "description": "",
            "description_tooltip": null,
            "layout": "IPY_MODEL_94df19618aaf434180b99d1f9e91ed5a",
            "placeholder": "​",
            "style": "IPY_MODEL_955c8ed49419463e93735f93e7287929",
            "value": " 528M/528M [00:03&lt;00:00, 154MB/s]"
          }
        },
        "defbb80985c44e9e8ecc66370fc464ab": {
          "model_module": "@jupyter-widgets/base",
          "model_name": "LayoutModel",
          "model_module_version": "1.2.0",
          "state": {
            "_model_module": "@jupyter-widgets/base",
            "_model_module_version": "1.2.0",
            "_model_name": "LayoutModel",
            "_view_count": null,
            "_view_module": "@jupyter-widgets/base",
            "_view_module_version": "1.2.0",
            "_view_name": "LayoutView",
            "align_content": null,
            "align_items": null,
            "align_self": null,
            "border": null,
            "bottom": null,
            "display": null,
            "flex": null,
            "flex_flow": null,
            "grid_area": null,
            "grid_auto_columns": null,
            "grid_auto_flow": null,
            "grid_auto_rows": null,
            "grid_column": null,
            "grid_gap": null,
            "grid_row": null,
            "grid_template_areas": null,
            "grid_template_columns": null,
            "grid_template_rows": null,
            "height": null,
            "justify_content": null,
            "justify_items": null,
            "left": null,
            "margin": null,
            "max_height": null,
            "max_width": null,
            "min_height": null,
            "min_width": null,
            "object_fit": null,
            "object_position": null,
            "order": null,
            "overflow": null,
            "overflow_x": null,
            "overflow_y": null,
            "padding": null,
            "right": null,
            "top": null,
            "visibility": null,
            "width": null
          }
        },
        "eed0710a424d4b6db862f291ea1f74fe": {
          "model_module": "@jupyter-widgets/base",
          "model_name": "LayoutModel",
          "model_module_version": "1.2.0",
          "state": {
            "_model_module": "@jupyter-widgets/base",
            "_model_module_version": "1.2.0",
            "_model_name": "LayoutModel",
            "_view_count": null,
            "_view_module": "@jupyter-widgets/base",
            "_view_module_version": "1.2.0",
            "_view_name": "LayoutView",
            "align_content": null,
            "align_items": null,
            "align_self": null,
            "border": null,
            "bottom": null,
            "display": null,
            "flex": null,
            "flex_flow": null,
            "grid_area": null,
            "grid_auto_columns": null,
            "grid_auto_flow": null,
            "grid_auto_rows": null,
            "grid_column": null,
            "grid_gap": null,
            "grid_row": null,
            "grid_template_areas": null,
            "grid_template_columns": null,
            "grid_template_rows": null,
            "height": null,
            "justify_content": null,
            "justify_items": null,
            "left": null,
            "margin": null,
            "max_height": null,
            "max_width": null,
            "min_height": null,
            "min_width": null,
            "object_fit": null,
            "object_position": null,
            "order": null,
            "overflow": null,
            "overflow_x": null,
            "overflow_y": null,
            "padding": null,
            "right": null,
            "top": null,
            "visibility": null,
            "width": null
          }
        },
        "f7c8ae943ead46a2985f35c74e118b90": {
          "model_module": "@jupyter-widgets/controls",
          "model_name": "DescriptionStyleModel",
          "model_module_version": "1.5.0",
          "state": {
            "_model_module": "@jupyter-widgets/controls",
            "_model_module_version": "1.5.0",
            "_model_name": "DescriptionStyleModel",
            "_view_count": null,
            "_view_module": "@jupyter-widgets/base",
            "_view_module_version": "1.2.0",
            "_view_name": "StyleView",
            "description_width": ""
          }
        },
        "78bd0edeef68459bb20ca3e783720980": {
          "model_module": "@jupyter-widgets/base",
          "model_name": "LayoutModel",
          "model_module_version": "1.2.0",
          "state": {
            "_model_module": "@jupyter-widgets/base",
            "_model_module_version": "1.2.0",
            "_model_name": "LayoutModel",
            "_view_count": null,
            "_view_module": "@jupyter-widgets/base",
            "_view_module_version": "1.2.0",
            "_view_name": "LayoutView",
            "align_content": null,
            "align_items": null,
            "align_self": null,
            "border": null,
            "bottom": null,
            "display": null,
            "flex": null,
            "flex_flow": null,
            "grid_area": null,
            "grid_auto_columns": null,
            "grid_auto_flow": null,
            "grid_auto_rows": null,
            "grid_column": null,
            "grid_gap": null,
            "grid_row": null,
            "grid_template_areas": null,
            "grid_template_columns": null,
            "grid_template_rows": null,
            "height": null,
            "justify_content": null,
            "justify_items": null,
            "left": null,
            "margin": null,
            "max_height": null,
            "max_width": null,
            "min_height": null,
            "min_width": null,
            "object_fit": null,
            "object_position": null,
            "order": null,
            "overflow": null,
            "overflow_x": null,
            "overflow_y": null,
            "padding": null,
            "right": null,
            "top": null,
            "visibility": null,
            "width": null
          }
        },
        "a59b37e257074e069effc010677ecf4d": {
          "model_module": "@jupyter-widgets/controls",
          "model_name": "ProgressStyleModel",
          "model_module_version": "1.5.0",
          "state": {
            "_model_module": "@jupyter-widgets/controls",
            "_model_module_version": "1.5.0",
            "_model_name": "ProgressStyleModel",
            "_view_count": null,
            "_view_module": "@jupyter-widgets/base",
            "_view_module_version": "1.2.0",
            "_view_name": "StyleView",
            "bar_color": null,
            "description_width": ""
          }
        },
        "94df19618aaf434180b99d1f9e91ed5a": {
          "model_module": "@jupyter-widgets/base",
          "model_name": "LayoutModel",
          "model_module_version": "1.2.0",
          "state": {
            "_model_module": "@jupyter-widgets/base",
            "_model_module_version": "1.2.0",
            "_model_name": "LayoutModel",
            "_view_count": null,
            "_view_module": "@jupyter-widgets/base",
            "_view_module_version": "1.2.0",
            "_view_name": "LayoutView",
            "align_content": null,
            "align_items": null,
            "align_self": null,
            "border": null,
            "bottom": null,
            "display": null,
            "flex": null,
            "flex_flow": null,
            "grid_area": null,
            "grid_auto_columns": null,
            "grid_auto_flow": null,
            "grid_auto_rows": null,
            "grid_column": null,
            "grid_gap": null,
            "grid_row": null,
            "grid_template_areas": null,
            "grid_template_columns": null,
            "grid_template_rows": null,
            "height": null,
            "justify_content": null,
            "justify_items": null,
            "left": null,
            "margin": null,
            "max_height": null,
            "max_width": null,
            "min_height": null,
            "min_width": null,
            "object_fit": null,
            "object_position": null,
            "order": null,
            "overflow": null,
            "overflow_x": null,
            "overflow_y": null,
            "padding": null,
            "right": null,
            "top": null,
            "visibility": null,
            "width": null
          }
        },
        "955c8ed49419463e93735f93e7287929": {
          "model_module": "@jupyter-widgets/controls",
          "model_name": "DescriptionStyleModel",
          "model_module_version": "1.5.0",
          "state": {
            "_model_module": "@jupyter-widgets/controls",
            "_model_module_version": "1.5.0",
            "_model_name": "DescriptionStyleModel",
            "_view_count": null,
            "_view_module": "@jupyter-widgets/base",
            "_view_module_version": "1.2.0",
            "_view_name": "StyleView",
            "description_width": ""
          }
        }
      }
    }
  },
  "cells": [
    {
      "cell_type": "code",
      "execution_count": 1,
      "metadata": {
        "colab": {
          "base_uri": "https://localhost:8080/"
        },
        "id": "jO_OAjpHznZB",
        "outputId": "01f68114-12fe-4079-ffc1-c9ceef772dd0"
      },
      "outputs": [
        {
          "output_type": "stream",
          "name": "stdout",
          "text": [
            "Cloning into 'Image-Classifier-with-VGG16-transfer-Learning'...\n",
            "remote: Enumerating objects: 9895, done.\u001b[K\n",
            "remote: Counting objects: 100% (7/7), done.\u001b[K\n",
            "remote: Compressing objects: 100% (6/6), done.\u001b[K\n",
            "remote: Total 9895 (delta 0), reused 7 (delta 0), pack-reused 9888\u001b[K\n",
            "Receiving objects: 100% (9895/9895), 524.54 MiB | 35.30 MiB/s, done.\n",
            "Resolving deltas: 100% (3/3), done.\n",
            "Checking out files: 100% (9997/9997), done.\n"
          ]
        }
      ],
      "source": [
        "!git clone https://github.com/Glen-Chue/Image-Classifier-with-VGG16-transfer-Learning.git"
      ]
    },
    {
      "cell_type": "code",
      "source": [
        "import torch\n",
        "import torch.nn as nn\n",
        "from torchvision.transforms import transforms\n",
        "from torchvision.io import read_image\n",
        "from torch.utils.data import DataLoader\n",
        "from torch.utils.data import Dataset\n",
        "from torch.optim import Adam\n",
        "from torch.autograd import Variable\n",
        "import torchvision\n",
        "import numpy as np\n",
        "import pandas as pd\n",
        "import matplotlib.pyplot as plt"
      ],
      "metadata": {
        "id": "BxqRWLUH3d4-"
      },
      "execution_count": 2,
      "outputs": []
    },
    {
      "cell_type": "markdown",
      "source": [
        "**Defining Relevant Preprocessing Steps**"
      ],
      "metadata": {
        "id": "j_tZH2Ue4Kk9"
      }
    },
    {
      "cell_type": "code",
      "source": [
        "#Transformers \n",
        "transformer = transforms.Compose([\n",
        "    transforms.Resize((224,224)),\n",
        "    transforms.RandomHorizontalFlip(),\n",
        "    transforms.ColorJitter(brightness=0.2, contrast=0.2, saturation=0.1, hue=0.1),\n",
        "    transforms.RandomAffine(degrees=40, translate=None, scale=(1, 2), shear=15, fill=0),\n",
        "    transforms.Normalize((0.485, 0.456, 0.406), (0.229, 0.224, 0.225))\n",
        "])"
      ],
      "metadata": {
        "id": "2oqWb6mC4HPf"
      },
      "execution_count": 3,
      "outputs": []
    },
    {
      "cell_type": "markdown",
      "source": [
        "**Loading the Datasets**"
      ],
      "metadata": {
        "id": "DPHKs7gI4SNR"
      }
    },
    {
      "cell_type": "code",
      "source": [
        "class CustomImageDataset(Dataset):\n",
        "    def __init__(self, annotations_file, transform=transformer, target_transform=None):\n",
        "        self.img_labels = pd.read_csv(annotations_file,sep = ' ',header=None)\n",
        "        self.transform = transform\n",
        "        self.target_transform = target_transform\n",
        "        self.n_classes = 20\n",
        "\n",
        "    def __len__(self):\n",
        "        return len(self.img_labels)\n",
        "\n",
        "\n",
        "    def __getitem__(self, idx):\n",
        "        img_path = self.img_labels.iloc[idx, 0]\n",
        "        image = read_image(img_path).float()\n",
        "        if image.shape[0] == 3:\n",
        "            image = image[:3]\n",
        "        elif image.shape[0] == 1:\n",
        "            image = image.repeat(3, 1, 1)\n",
        "        label = self.img_labels.iloc[idx, 1]\n",
        "        if self.transform:\n",
        "            image = self.transform(image)\n",
        "        return image, label"
      ],
      "metadata": {
        "id": "UNgWO2IF4Rfj"
      },
      "execution_count": 4,
      "outputs": []
    },
    {
      "cell_type": "code",
      "source": [
        "train = CustomImageDataset('/content/Image-Classifier-with-VGG16-transfer-Learning/train.txt',)"
      ],
      "metadata": {
        "id": "R5BnVxJv4X_z"
      },
      "execution_count": 5,
      "outputs": []
    },
    {
      "cell_type": "code",
      "source": [
        "test = CustomImageDataset('/content/Image-Classifier-with-VGG16-transfer-Learning/test.txt',)"
      ],
      "metadata": {
        "id": "Ux1AwOF74gHh"
      },
      "execution_count": 6,
      "outputs": []
    },
    {
      "cell_type": "code",
      "source": [
        "train_loader = DataLoader(train, batch_size=64, shuffle=True)\n",
        "test_loader = DataLoader(test, batch_size=1, shuffle=True)"
      ],
      "metadata": {
        "id": "oHJXBkBY4k5S"
      },
      "execution_count": 7,
      "outputs": []
    },
    {
      "cell_type": "code",
      "source": [
        "import torchvision\n",
        "def imshow(inp, title=None):\n",
        "    \"\"\"Imshow for Tensor.\"\"\"\n",
        "    inp = inp.numpy().transpose((1, 2, 0))\n",
        "    plt.imshow(inp)\n",
        "    if title is not None:\n",
        "        plt.title(title)\n",
        "    plt.pause(0.001)  # pause a bit so that plots are updated"
      ],
      "metadata": {
        "id": "qhqf9ShE4mqL"
      },
      "execution_count": 8,
      "outputs": []
    },
    {
      "cell_type": "code",
      "source": [
        "# Get a batch of training data\n",
        "inputs, classes = next(iter(train_loader))\n",
        "# Make a grid from batch\n",
        "out = torchvision.utils.make_grid(inputs)\n",
        "imshow(out)"
      ],
      "metadata": {
        "colab": {
          "base_uri": "https://localhost:8080/",
          "height": 287
        },
        "id": "1qck38ZY4qA1",
        "outputId": "c560a210-2d11-4fa3-a6ef-639b953cd5a8"
      },
      "execution_count": 9,
      "outputs": [
        {
          "output_type": "stream",
          "name": "stderr",
          "text": [
            "Clipping input data to the valid range for imshow with RGB data ([0..1] for floats or [0..255] for integers).\n"
          ]
        },
        {
          "output_type": "display_data",
          "data": {
            "text/plain": [
              "<Figure size 432x288 with 1 Axes>"
            ],
            "image/png": "[encoded data removed]"
          },
          "metadata": {
            "needs_background": "light"
          }
        }
      ]
    },
    {
      "cell_type": "code",
      "source": [
        "# Get a batch of training data\n",
        "inputs, classes = next(iter(test_loader))\n",
        "# Make a grid from batch\n",
        "out = torchvision.utils.make_grid(inputs)\n",
        "imshow(out)"
      ],
      "metadata": {
        "colab": {
          "base_uri": "https://localhost:8080/",
          "height": 287
        },
        "id": "iLqmewCU5Xqh",
        "outputId": "ffb17f09-0829-4fbc-cb15-00c2af817f4a"
      },
      "execution_count": 10,
      "outputs": [
        {
          "output_type": "stream",
          "name": "stderr",
          "text": [
            "Clipping input data to the valid range for imshow with RGB data ([0..1] for floats or [0..255] for integers).\n"
          ]
        },
        {
          "output_type": "display_data",
          "data": {
            "text/plain": [
              "<Figure size 432x288 with 1 Axes>"
            ],
            "image/png": "[encoded data removed]"
          },
          "metadata": {
            "needs_background": "light"
          }
        }
      ]
    },
    {
      "cell_type": "markdown",
      "source": [
        "**Feature Extraction**"
      ],
      "metadata": {
        "id": "4rxZSxvS5ig5"
      }
    },
    {
      "cell_type": "markdown",
      "source": [
        "Defining Helper Functions"
      ],
      "metadata": {
        "id": "ovUt1F5GM-tg"
      }
    },
    {
      "cell_type": "code",
      "source": [
        "import torchvision.models as models\n",
        "def train_model(model, dataloaders, criterion, optimizer, num_epochs=25, is_inception=False):\n",
        "    since = time.time()\n",
        "\n",
        "    val_acc_history = []\n",
        "\n",
        "    best_model_wts = copy.deepcopy(model.state_dict())\n",
        "    best_acc = 0.0\n",
        "\n",
        "    for epoch in range(num_epochs):\n",
        "        print('Epoch {}/{}'.format(epoch, num_epochs - 1))\n",
        "        print('-' * 10)\n",
        "\n",
        "        # Each epoch has a training and validation phase\n",
        "        for phase in ['train', 'val']:\n",
        "            if phase == 'train':\n",
        "                model.train()  # Set model to training mode\n",
        "            else:\n",
        "                model.eval()   # Set model to evaluate mode\n",
        "\n",
        "            running_loss = 0.0\n",
        "            running_corrects = 0\n",
        "\n",
        "            # Iterate over data.\n",
        "            for inputs, labels in dataloaders[phase]:\n",
        "                inputs = inputs.to(device)\n",
        "                labels = labels.to(device)\n",
        "\n",
        "                # zero the parameter gradients\n",
        "                optimizer.zero_grad()\n",
        "\n",
        "                # forward\n",
        "                # track history if only in train\n",
        "                with torch.set_grad_enabled(phase == 'train'):\n",
        "                    # Get model outputs and calculate loss\n",
        "                    # Special case for inception because in training it has an auxiliary output. In train\n",
        "                    #   mode we calculate the loss by summing the final output and the auxiliary output\n",
        "                    #   but in testing we only consider the final output.\n",
        "                    if is_inception and phase == 'train':\n",
        "                        # From https://discuss.pytorch.org/t/how-to-optimize-inception-model-with-auxiliary-classifiers/7958\n",
        "                        outputs, aux_outputs = model(inputs)\n",
        "                        loss1 = criterion(outputs, labels)\n",
        "                        loss2 = criterion(aux_outputs, labels)\n",
        "                        loss = loss1 + 0.4*loss2\n",
        "                    else:\n",
        "                        outputs = model(inputs)\n",
        "                        loss = criterion(outputs, labels)\n",
        "\n",
        "                    _, preds = torch.max(outputs, 1)\n",
        "\n",
        "                    # backward + optimize only if in training phase\n",
        "                    if phase == 'train':\n",
        "                        loss.backward()\n",
        "                        optimizer.step()\n",
        "\n",
        "                # statistics\n",
        "                running_loss += loss.item() * inputs.size(0)\n",
        "                running_corrects += torch.sum(preds == labels.data)\n",
        "\n",
        "            epoch_loss = running_loss / len(dataloaders[phase].dataset)\n",
        "            epoch_acc = running_corrects.double() / len(dataloaders[phase].dataset)\n",
        "\n",
        "            print('{} Loss: {:.4f} Acc: {:.4f}'.format(phase, epoch_loss, epoch_acc))\n",
        "\n",
        "            # deep copy the model\n",
        "            if phase == 'val' and epoch_acc > best_acc:\n",
        "                best_acc = epoch_acc\n",
        "                best_model_wts = copy.deepcopy(model.state_dict())\n",
        "            if phase == 'val':\n",
        "                val_acc_history.append(epoch_acc)\n",
        "\n",
        "        print()\n",
        "\n",
        "    time_elapsed = time.time() - since\n",
        "    print('Training complete in {:.0f}m {:.0f}s'.format(time_elapsed // 60, time_elapsed % 60))\n",
        "    print('Best val Acc: {:4f}'.format(best_acc))\n",
        "\n",
        "    # load best model weights\n",
        "    model.load_state_dict(best_model_wts)\n",
        "    return model, val_acc_history"
      ],
      "metadata": {
        "id": "2K8k7cbrMyai"
      },
      "execution_count": 11,
      "outputs": []
    },
    {
      "cell_type": "code",
      "source": [
        "def set_parameter_requires_grad(model, feature_extracting):\n",
        "    if feature_extracting:\n",
        "        for param in model.parameters():\n",
        "            param.requires_grad = False"
      ],
      "metadata": {
        "id": "AEcPP7Z0NB7a"
      },
      "execution_count": 12,
      "outputs": []
    },
    {
      "cell_type": "code",
      "source": [
        "def initialize_model(num_classes, feature_extract, use_pretrained=True):\n",
        "  model_ft = models.vgg16(pretrained=use_pretrained)\n",
        "  set_parameter_requires_grad(model_ft, feature_extract)\n",
        "  num_ftrs = model_ft.classifier[6].in_features\n",
        "  model_ft.classifier[6] = nn.Linear(num_ftrs,num_classes)\n",
        "  input_size = 224\n",
        "  return model_ft, input_size"
      ],
      "metadata": {
        "id": "DA579HhlNFvg"
      },
      "execution_count": 13,
      "outputs": []
    },
    {
      "cell_type": "markdown",
      "source": [
        "Initializing Pre - Trained Model"
      ],
      "metadata": {
        "id": "7XeA12UbQBtr"
      }
    },
    {
      "cell_type": "code",
      "source": [
        "feature_extract = True\n",
        "model_ft, input_size = initialize_model(20, feature_extract, use_pretrained=True)"
      ],
      "metadata": {
        "id": "nmJ-XWWbNceH",
        "colab": {
          "base_uri": "https://localhost:8080/",
          "height": 67,
          "referenced_widgets": [
            "1ac1cc9746234566a13262c798a89e7e",
            "84f6ad4402e84f60a96bf3f896126c8e",
            "1370ba9d695e4b8a9bae7c9603d4311a",
            "3c6809d16434424a9b1be7097d7623c6",
            "defbb80985c44e9e8ecc66370fc464ab",
            "eed0710a424d4b6db862f291ea1f74fe",
            "f7c8ae943ead46a2985f35c74e118b90",
            "78bd0edeef68459bb20ca3e783720980",
            "a59b37e257074e069effc010677ecf4d",
            "94df19618aaf434180b99d1f9e91ed5a",
            "955c8ed49419463e93735f93e7287929"
          ]
        },
        "outputId": "e7165d92-3ea6-4015-8576-776e730f3141"
      },
      "execution_count": 14,
      "outputs": [
        {
          "output_type": "stream",
          "name": "stderr",
          "text": [
            "Downloading: \"https://download.pytorch.org/models/vgg16-397923af.pth\" to /root/.cache/torch/hub/checkpoints/vgg16-397923af.pth\n"
          ]
        },
        {
          "output_type": "display_data",
          "data": {
            "text/plain": [
              "  0%|          | 0.00/528M [00:00<?, ?B/s]"
            ],
            "application/vnd.jupyter.widget-view+json": {
              "version_major": 2,
              "version_minor": 0,
              "model_id": "1ac1cc9746234566a13262c798a89e7e"
            }
          },
          "metadata": {}
        }
      ]
    },
    {
      "cell_type": "code",
      "source": [
        "print(model_ft)"
      ],
      "metadata": {
        "colab": {
          "base_uri": "https://localhost:8080/"
        },
        "id": "1jO0vf9hOpVf",
        "outputId": "db936e2f-909f-4ee1-ee3f-05ea51c724b4"
      },
      "execution_count": 15,
      "outputs": [
        {
          "output_type": "stream",
          "name": "stdout",
          "text": [
            "VGG(\n",
            "  (features): Sequential(\n",
            "    (0): Conv2d(3, 64, kernel_size=(3, 3), stride=(1, 1), padding=(1, 1))\n",
            "    (1): ReLU(inplace=True)\n",
            "    (2): Conv2d(64, 64, kernel_size=(3, 3), stride=(1, 1), padding=(1, 1))\n",
            "    (3): ReLU(inplace=True)\n",
            "    (4): MaxPool2d(kernel_size=2, stride=2, padding=0, dilation=1, ceil_mode=False)\n",
            "    (5): Conv2d(64, 128, kernel_size=(3, 3), stride=(1, 1), padding=(1, 1))\n",
            "    (6): ReLU(inplace=True)\n",
            "    (7): Conv2d(128, 128, kernel_size=(3, 3), stride=(1, 1), padding=(1, 1))\n",
            "    (8): ReLU(inplace=True)\n",
            "    (9): MaxPool2d(kernel_size=2, stride=2, padding=0, dilation=1, ceil_mode=False)\n",
            "    (10): Conv2d(128, 256, kernel_size=(3, 3), stride=(1, 1), padding=(1, 1))\n",
            "    (11): ReLU(inplace=True)\n",
            "    (12): Conv2d(256, 256, kernel_size=(3, 3), stride=(1, 1), padding=(1, 1))\n",
            "    (13): ReLU(inplace=True)\n",
            "    (14): Conv2d(256, 256, kernel_size=(3, 3), stride=(1, 1), padding=(1, 1))\n",
            "    (15): ReLU(inplace=True)\n",
            "    (16): MaxPool2d(kernel_size=2, stride=2, padding=0, dilation=1, ceil_mode=False)\n",
            "    (17): Conv2d(256, 512, kernel_size=(3, 3), stride=(1, 1), padding=(1, 1))\n",
            "    (18): ReLU(inplace=True)\n",
            "    (19): Conv2d(512, 512, kernel_size=(3, 3), stride=(1, 1), padding=(1, 1))\n",
            "    (20): ReLU(inplace=True)\n",
            "    (21): Conv2d(512, 512, kernel_size=(3, 3), stride=(1, 1), padding=(1, 1))\n",
            "    (22): ReLU(inplace=True)\n",
            "    (23): MaxPool2d(kernel_size=2, stride=2, padding=0, dilation=1, ceil_mode=False)\n",
            "    (24): Conv2d(512, 512, kernel_size=(3, 3), stride=(1, 1), padding=(1, 1))\n",
            "    (25): ReLU(inplace=True)\n",
            "    (26): Conv2d(512, 512, kernel_size=(3, 3), stride=(1, 1), padding=(1, 1))\n",
            "    (27): ReLU(inplace=True)\n",
            "    (28): Conv2d(512, 512, kernel_size=(3, 3), stride=(1, 1), padding=(1, 1))\n",
            "    (29): ReLU(inplace=True)\n",
            "    (30): MaxPool2d(kernel_size=2, stride=2, padding=0, dilation=1, ceil_mode=False)\n",
            "  )\n",
            "  (avgpool): AdaptiveAvgPool2d(output_size=(7, 7))\n",
            "  (classifier): Sequential(\n",
            "    (0): Linear(in_features=25088, out_features=4096, bias=True)\n",
            "    (1): ReLU(inplace=True)\n",
            "    (2): Dropout(p=0.5, inplace=False)\n",
            "    (3): Linear(in_features=4096, out_features=4096, bias=True)\n",
            "    (4): ReLU(inplace=True)\n",
            "    (5): Dropout(p=0.5, inplace=False)\n",
            "    (6): Linear(in_features=4096, out_features=20, bias=True)\n",
            "  )\n",
            ")\n"
          ]
        }
      ]
    },
    {
      "cell_type": "code",
      "source": [
        "# Create training and validation dataloaders\n",
        "dataloaders_dict = {'train':train_loader , 'val':test_loader}\n",
        "# Detect if we have a GPU available\n",
        "device = torch.device(\"cuda:0\" if torch.cuda.is_available() else \"cpu\")\n",
        "# Send the model to GPU\n",
        "model_ft = model_ft.to(device)"
      ],
      "metadata": {
        "id": "wg6uPAmQOxLB"
      },
      "execution_count": 16,
      "outputs": []
    },
    {
      "cell_type": "code",
      "source": [
        "from torch import optim\n",
        "params_to_update = model_ft.parameters()\n",
        "print(\"Params to learn:\")\n",
        "if feature_extract:\n",
        "    params_to_update = []\n",
        "    for name,param in model_ft.named_parameters():\n",
        "        if param.requires_grad == True:\n",
        "            params_to_update.append(param)\n",
        "            print(\"\\t\",name)\n",
        "else:\n",
        "    for name,param in model_ft.named_parameters():\n",
        "        if param.requires_grad == True:\n",
        "            print(\"\\t\",name)\n",
        "\n",
        "# Observe that all parameters are being optimized\n",
        "optimizer_ft = optim.SGD(params_to_update, lr=0.001, momentum=0.9)"
      ],
      "metadata": {
        "colab": {
          "base_uri": "https://localhost:8080/"
        },
        "id": "xXW7-D2PPCkC",
        "outputId": "a0b29a6e-d941-488b-ceaa-0024636cd844"
      },
      "execution_count": 17,
      "outputs": [
        {
          "output_type": "stream",
          "name": "stdout",
          "text": [
            "Params to learn:\n",
            "\t classifier.6.weight\n",
            "\t classifier.6.bias\n"
          ]
        }
      ]
    },
    {
      "cell_type": "markdown",
      "source": [
        "Feature Extraction From Pre - Trained Model"
      ],
      "metadata": {
        "id": "20xfNsSIQGHX"
      }
    },
    {
      "cell_type": "code",
      "source": [
        "import time,copy\n",
        "# Setup the loss fxn1\n",
        "criterion = nn.CrossEntropyLoss()\n",
        "# Train and evaluate\n",
        "model_ft, hist = train_model(model_ft, dataloaders_dict, criterion, optimizer_ft, num_epochs=25, is_inception=False)"
      ],
      "metadata": {
        "id": "lr3WE2zIPNIi",
        "colab": {
          "base_uri": "https://localhost:8080/"
        },
        "outputId": "bb8760dd-702c-4d24-99bb-e9e1321e4a93"
      },
      "execution_count": 18,
      "outputs": [
        {
          "output_type": "stream",
          "name": "stdout",
          "text": [
            "Epoch 0/24\n",
            "----------\n",
            "train Loss: 2.9876 Acc: 0.0802\n",
            "val Loss: 2.9238 Acc: 0.0930\n",
            "\n",
            "Epoch 1/24\n",
            "----------\n",
            "train Loss: 2.9463 Acc: 0.0955\n",
            "val Loss: 2.8942 Acc: 0.1111\n",
            "\n",
            "Epoch 2/24\n",
            "----------\n",
            "train Loss: 2.9140 Acc: 0.1081\n",
            "val Loss: 2.8612 Acc: 0.1166\n",
            "\n",
            "Epoch 3/24\n",
            "----------\n",
            "train Loss: 2.9050 Acc: 0.1081\n",
            "val Loss: 2.8736 Acc: 0.1086\n",
            "\n",
            "Epoch 4/24\n",
            "----------\n",
            "train Loss: 2.8998 Acc: 0.1101\n",
            "val Loss: 2.8863 Acc: 0.1126\n",
            "\n",
            "Epoch 5/24\n",
            "----------\n",
            "train Loss: 2.8954 Acc: 0.1142\n",
            "val Loss: 2.8465 Acc: 0.1121\n",
            "\n",
            "Epoch 6/24\n",
            "----------\n",
            "train Loss: 2.8930 Acc: 0.1116\n",
            "val Loss: 2.8691 Acc: 0.1101\n",
            "\n",
            "Epoch 7/24\n",
            "----------\n",
            "train Loss: 2.8916 Acc: 0.1130\n",
            "val Loss: 2.8477 Acc: 0.1081\n",
            "\n",
            "Epoch 8/24\n",
            "----------\n",
            "train Loss: 2.8942 Acc: 0.1140\n",
            "val Loss: 2.8617 Acc: 0.1151\n",
            "\n",
            "Epoch 9/24\n",
            "----------\n",
            "train Loss: 2.8877 Acc: 0.1165\n",
            "val Loss: 2.8437 Acc: 0.1226\n",
            "\n",
            "Epoch 10/24\n",
            "----------\n",
            "train Loss: 2.8912 Acc: 0.1170\n",
            "val Loss: 2.8449 Acc: 0.1226\n",
            "\n",
            "Epoch 11/24\n",
            "----------\n",
            "train Loss: 2.8825 Acc: 0.1187\n",
            "val Loss: 2.8346 Acc: 0.1226\n",
            "\n",
            "Epoch 12/24\n",
            "----------\n",
            "train Loss: 2.8872 Acc: 0.1176\n",
            "val Loss: 2.8558 Acc: 0.1201\n",
            "\n",
            "Epoch 13/24\n",
            "----------\n",
            "train Loss: 2.8833 Acc: 0.1147\n",
            "val Loss: 2.8502 Acc: 0.1221\n",
            "\n",
            "Epoch 14/24\n",
            "----------\n",
            "train Loss: 2.8900 Acc: 0.1147\n",
            "val Loss: 2.8687 Acc: 0.1151\n",
            "\n",
            "Epoch 15/24\n",
            "----------\n",
            "train Loss: 2.8808 Acc: 0.1120\n",
            "val Loss: 2.8373 Acc: 0.1216\n",
            "\n",
            "Epoch 16/24\n",
            "----------\n",
            "train Loss: 2.8776 Acc: 0.1154\n",
            "val Loss: 2.8340 Acc: 0.1236\n",
            "\n",
            "Epoch 17/24\n",
            "----------\n",
            "train Loss: 2.8778 Acc: 0.1222\n",
            "val Loss: 2.8484 Acc: 0.1221\n",
            "\n",
            "Epoch 18/24\n",
            "----------\n",
            "train Loss: 2.8732 Acc: 0.1251\n",
            "val Loss: 2.8304 Acc: 0.1201\n",
            "\n",
            "Epoch 19/24\n",
            "----------\n",
            "train Loss: 2.8802 Acc: 0.1162\n",
            "val Loss: 2.8395 Acc: 0.1176\n",
            "\n",
            "Epoch 20/24\n",
            "----------\n",
            "train Loss: 2.8785 Acc: 0.1175\n",
            "val Loss: 2.8258 Acc: 0.1261\n",
            "\n",
            "Epoch 21/24\n",
            "----------\n",
            "train Loss: 2.8796 Acc: 0.1190\n",
            "val Loss: 2.8404 Acc: 0.1336\n",
            "\n",
            "Epoch 22/24\n",
            "----------\n",
            "train Loss: 2.8696 Acc: 0.1182\n",
            "val Loss: 2.8347 Acc: 0.1281\n",
            "\n",
            "Epoch 23/24\n",
            "----------\n",
            "train Loss: 2.8701 Acc: 0.1211\n",
            "val Loss: 2.8238 Acc: 0.1356\n",
            "\n",
            "Epoch 24/24\n",
            "----------\n",
            "train Loss: 2.8806 Acc: 0.1161\n",
            "val Loss: 2.8398 Acc: 0.1261\n",
            "\n",
            "Training complete in 91m 10s\n",
            "Best val Acc: 0.135568\n"
          ]
        }
      ]
    },
    {
      "cell_type": "markdown",
      "source": [
        "# Model Inference"
      ],
      "metadata": {
        "id": "VO3MA4ci5bHJ"
      }
    },
    {
      "cell_type": "code",
      "source": [
        "! wget http://virtualization.com/wp-content/uploads/2008/03/virtualization-kvm-ubuntu.png"
      ],
      "metadata": {
        "id": "XEX7H5Z1RxpR",
        "colab": {
          "base_uri": "https://localhost:8080/"
        },
        "outputId": "5b8bc08b-9223-4bda-e854-cce4618bef34"
      },
      "execution_count": 20,
      "outputs": [
        {
          "output_type": "stream",
          "name": "stdout",
          "text": [
            "--2022-04-23 10:10:11--  http://virtualization.com/wp-content/uploads/2008/03/virtualization-kvm-ubuntu.png\n",
            "Resolving virtualization.com (virtualization.com)... 72.47.224.111\n",
            "Connecting to virtualization.com (virtualization.com)|72.47.224.111|:80... connected.\n",
            "HTTP request sent, awaiting response... 200 OK\n",
            "Length: 5857 (5.7K) [image/png]\n",
            "Saving to: ‘virtualization-kvm-ubuntu.png’\n",
            "\n",
            "virtualization-kvm- 100%[===================>]   5.72K  --.-KB/s    in 0s      \n",
            "\n",
            "2022-04-23 10:10:12 (581 MB/s) - ‘virtualization-kvm-ubuntu.png’ saved [5857/5857]\n",
            "\n"
          ]
        }
      ]
    },
    {
      "cell_type": "code",
      "source": [
        "transformer = transforms.Compose([\n",
        "    transforms.Resize((224,224)),\n",
        "    transforms.RandomHorizontalFlip(),\n",
        "    transforms.ColorJitter(brightness=0.2, contrast=0.2, saturation=0.1, hue=0.1),\n",
        "    transforms.RandomAffine(degrees=40, translate=None, scale=(1, 2), shear=15, fill=0),\n",
        "    transforms.Normalize((0.485, 0.456, 0.406), (0.229, 0.224, 0.225))\n",
        "])"
      ],
      "metadata": {
        "id": "LlDHlz2h6Qkc"
      },
      "execution_count": 46,
      "outputs": []
    },
    {
      "cell_type": "code",
      "source": [
        "from PIL import Image\n",
        "img = Image.open(\"/content/virtualization-kvm-ubuntu.png\").convert('RGB')\n",
        "img = img.save(\"/content/final.jpg\")\n",
        "img = read_image(\"/content/final.jpg\").float()\n",
        "img_t = transformer(img)     \n",
        "img_t = img_t.unsqueeze(0) "
      ],
      "metadata": {
        "id": "4c0O3o88k8ma"
      },
      "execution_count": 55,
      "outputs": []
    },
    {
      "cell_type": "code",
      "source": [
        "img_t = img_t.cuda()\n",
        "infer = model_ft(img_t)"
      ],
      "metadata": {
        "id": "afR7Vr59tcou"
      },
      "execution_count": 60,
      "outputs": []
    },
    {
      "cell_type": "code",
      "source": [
        "infer.topk(5)"
      ],
      "metadata": {
        "colab": {
          "base_uri": "https://localhost:8080/"
        },
        "id": "vaECVEOn6mHC",
        "outputId": "1d93e72b-5920-4c61-e567-a0529ffce8ee"
      },
      "execution_count": 62,
      "outputs": [
        {
          "output_type": "execute_result",
          "data": {
            "text/plain": [
              "torch.return_types.topk(values=tensor([[0.7088, 0.6482, 0.2154, 0.1710, 0.1709]], device='cuda:0',\n",
              "       grad_fn=<TopkBackward0>), indices=tensor([[16,  6, 11,  2, 19]], device='cuda:0'))"
            ]
          },
          "metadata": {},
          "execution_count": 62
        }
      ]
    },
    {
      "cell_type": "code",
      "source": [
        ""
      ],
      "metadata": {
        "id": "s_ZadS2e8ycf"
      },
      "execution_count": null,
      "outputs": []
    }
  ]
}